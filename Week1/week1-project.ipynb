{
 "cells": [
  {
   "cell_type": "code",
   "execution_count": null,
   "id": "3c4b44b0",
   "metadata": {},
   "outputs": [],
   "source": [
    "import os \n",
    "from dotenv import load_dotenv\n",
    "import requests\n",
    "from bs4 import BeautifulSoup\n",
    "from openai import OpenAI\n",
    "import ollama"
   ]
  },
  {
   "cell_type": "code",
   "execution_count": 3,
   "id": "75be9cce",
   "metadata": {},
   "outputs": [
    {
     "name": "stdout",
     "output_type": "stream",
     "text": [
      "Api key is working fine\n"
     ]
    }
   ],
   "source": [
    "load_dotenv()\n",
    "\n",
    "api_key = os.getenv(\"OPEN_AI_API_KEY\")\n",
    "openai.api_key = api_key\n",
    "\n",
    "if api_key and api_key.startswith(\"sk-proj-\"):\n",
    "    print(\"Api key is working fine\")\n",
    "else:\n",
    "    print(\"There might be a problem with your API KEY.\")"
   ]
  },
  {
   "cell_type": "code",
   "execution_count": 4,
   "id": "9d2af73f",
   "metadata": {},
   "outputs": [],
   "source": [
    "MODEL_GPT = 'gpt-4o-mini'\n",
    "MODEL_LLAMA = 'llama3.2'"
   ]
  },
  {
   "cell_type": "code",
   "execution_count": null,
   "id": "45ceacf6",
   "metadata": {},
   "outputs": [],
   "source": [
    "# here is the question; type over this to ask something new\n",
    "\n",
    "question = \"\"\"\n",
    "Please explain what this code does and why:\n",
    "yield from {book.get(\"author\") for book in books if book.get(\"author\")}\n",
    "\"\"\""
   ]
  },
  {
   "cell_type": "code",
   "execution_count": null,
   "id": "e1daac3e",
   "metadata": {},
   "outputs": [],
   "source": [
    "# prompts\n",
    "\n",
    "system_prompt = \"You are a helpful technical tutor who answers questions about python code, software engineering, data science and LLMs\"\n",
    "user_prompt = \"Please give a detailed explanation to the following question: \" + question"
   ]
  },
  {
   "cell_type": "code",
   "execution_count": 16,
   "id": "2c9d1cdd",
   "metadata": {},
   "outputs": [],
   "source": [
    "class website:\n",
    "    # book=str\n",
    "    title=str\n",
    "    # page =str\n",
    "    # link=str\n",
    "    # page_num=int\n",
    "    text = str\n",
    "    def __init__(self, url):\n",
    "        self.url = url\n",
    "        response =requests.get(url)\n",
    "        self.body = response.content\n",
    "        soup = BeautifulSoup(self.body, \"html.parser\")\n",
    "        self.title= soup.title.string if soup.title else \"No Title Found\"\n",
    "\n",
    "        if soup.body:\n",
    "            for irrelevant in soup.body([\"script\",\"style\", \"img\",\"input\"]):\n",
    "                irrelevant.decompose()\n",
    "            self.text = soup.body.get_text(separator=\"\\n\", strip=True)\n",
    "        else:\n",
    "            self.text=\"\"\n",
    "        links = [link.get(\"href\") for link in soup.find_all(\"a\")]\n",
    "        self.links = [link for link in links if link] \n",
    "\n",
    "    def get_content(self):\n",
    "              return f\"webpage Title:\\n{self.title}\\nwebpage contents:\\n{self.text}\\n\\n\"\n",
    "       \n"
   ]
  },
  {
   "cell_type": "code",
   "execution_count": 18,
   "id": "10d323f1",
   "metadata": {},
   "outputs": [
    {
     "name": "stdout",
     "output_type": "stream",
     "text": [
      "<__main__.website object at 0x000001ACFEA36B90>\n"
     ]
    }
   ],
   "source": [
    "content = website(\"https://www.goal.com\")\n",
    "print(content)\n"
   ]
  },
  {
   "cell_type": "code",
   "execution_count": null,
   "id": "ba30929f",
   "metadata": {},
   "outputs": [],
   "source": [
    "system_prompt = \"You are given a sport news website with breaking news get me all the latest news for FC barcelona\"\n",
    "system_prompt += \"You are to response in JSON format\"\n",
    "system_prompt += \"\"\"\"\"\n",
    "{\n",
    "\"links\":[\n",
    "\n",
    "{\"type\": \"about page\", \"url\": \"https://full.url/goes/here/about\"}\n",
    "{\"type\": \"career page\": \"https://another.full.url/careers\"}\n",
    "\n",
    "\n",
    "]\n",
    "}\n",
    "\"\"\"\"\""
   ]
  },
  {
   "cell_type": "code",
   "execution_count": null,
   "id": "924e6888",
   "metadata": {},
   "outputs": [],
   "source": [
    "def get_FCBarcelona_new(url)"
   ]
  },
  {
   "cell_type": "code",
   "execution_count": null,
   "id": "5d66349d",
   "metadata": {},
   "outputs": [],
   "source": []
  }
 ],
 "metadata": {
  "kernelspec": {
   "display_name": "Python 3",
   "language": "python",
   "name": "python3"
  },
  "language_info": {
   "codemirror_mode": {
    "name": "ipython",
    "version": 3
   },
   "file_extension": ".py",
   "mimetype": "text/x-python",
   "name": "python",
   "nbconvert_exporter": "python",
   "pygments_lexer": "ipython3",
   "version": "3.10.1"
  }
 },
 "nbformat": 4,
 "nbformat_minor": 5
}
