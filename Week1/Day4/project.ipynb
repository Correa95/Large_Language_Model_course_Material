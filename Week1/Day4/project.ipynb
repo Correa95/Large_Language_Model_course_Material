{
 "cells": [
  {
   "cell_type": "code",
   "execution_count": null,
   "id": "b78e710e",
   "metadata": {},
   "outputs": [],
   "source": [
    "# Import all packages\n",
    "from dotenv import load_dotenv\n",
    "import os\n",
    "from bs4 import BeautifulSoup\n",
    "from IPython.display import Markdown, display\n",
    "import requests\n",
    "from openai import OpenAI"
   ]
  },
  {
   "cell_type": "code",
   "execution_count": null,
   "id": "da7b58b9",
   "metadata": {},
   "outputs": [
    {
     "name": "stdout",
     "output_type": "stream",
     "text": [
      "Api key looks good so far\n"
     ]
    }
   ],
   "source": [
    "# Checking for the api_key access\n",
    "load_dotenv()\n",
    "\n",
    "api_key = os.getenv(\"OPEN_AI_API_KEY\")\n",
    "if api_key and api_key[:8] == \"sk-proj-\":\n",
    "    print(\"Api key looks good so far\")\n",
    "else:\n",
    "    print(\"There might be a problem with your API KEY. Please visit the troubleshooting notebook\")"
   ]
  },
  {
   "cell_type": "code",
   "execution_count": null,
   "id": "beb4b7e4",
   "metadata": {},
   "outputs": [],
   "source": [
    "class Website:\n",
    "    url:str\n",
    "    title:str\n",
    "    body:str\n",
    "    links:str\n",
    "    text:str\n",
    "    def __init__(self, url):\n",
    "        self.url = url\n",
    "        response = requests.get(url)\n",
    "        self.body = response.content\n",
    "        soup = BeautifulSoup(self.body, \"html.parser\")\n",
    "        self.title = soup.title.string if soup.title else \"No Title Found\"\n",
    "\n",
    "        if soup.body:\n",
    "            for irrelevant in soup.body([\"script\", \"style\", \"img\", \"input\"]):\n",
    "                irrelevant.decompose()\n",
    "            self.text = soup.body.get_text(separator=\"\\n\", strip=True)\n",
    "        else:\n",
    "            self.text = \"\"\n",
    "        links = [link.get(\"href\") for link in soup.find_all(\"a\")]\n",
    "        self.links = [link for link in links if link]\n",
    "\n",
    "    def get_contents(self):\n",
    "        return f\"webpage Title:\\n{self.title}\\nwebpage contents:\\n{self.text}\\n\\n\"\n",
    "        "
   ]
  }
 ],
 "metadata": {
  "kernelspec": {
   "display_name": "Python 3",
   "language": "python",
   "name": "python3"
  },
  "language_info": {
   "codemirror_mode": {
    "name": "ipython",
    "version": 3
   },
   "file_extension": ".py",
   "mimetype": "text/x-python",
   "name": "python",
   "nbconvert_exporter": "python",
   "pygments_lexer": "ipython3",
   "version": "3.10.1"
  }
 },
 "nbformat": 4,
 "nbformat_minor": 5
}
