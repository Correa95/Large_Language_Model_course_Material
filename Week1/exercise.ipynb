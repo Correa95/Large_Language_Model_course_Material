{
 "cells": [
  {
   "cell_type": "code",
   "execution_count": null,
   "id": "b3af6c94",
   "metadata": {},
   "outputs": [],
   "source": [
    "from bs4 import BeautifulSoup\n",
    "from Ipython.display import Markdown, display\n",
    "\n"
   ]
  },
  {
   "cell_type": "code",
   "execution_count": null,
   "id": "0971b868",
   "metadata": {},
   "outputs": [],
   "source": [
    "OLLAMA_API = \"https://ollama.com/api/chat\"\n",
    "HEADER = {\"content-Type\": \"application/json\"}\n",
    "MODEL = \"ollama3.2\"\n",
    "\n"
   ]
  }
 ],
 "metadata": {
  "language_info": {
   "name": "python"
  }
 },
 "nbformat": 4,
 "nbformat_minor": 5
}
