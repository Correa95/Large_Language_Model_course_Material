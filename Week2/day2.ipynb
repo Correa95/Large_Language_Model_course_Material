{
 "cells": [
  {
   "cell_type": "code",
   "execution_count": 1,
   "id": "3132e2cb",
   "metadata": {},
   "outputs": [
    {
     "name": "stderr",
     "output_type": "stream",
     "text": [
      "c:\\Users\\mathe\\OneDrive\\Desktop\\LLM_Course\\Large_Language_Model_course_Material\\Week2\\.venv\\lib\\site-packages\\tqdm\\auto.py:21: TqdmWarning: IProgress not found. Please update jupyter and ipywidgets. See https://ipywidgets.readthedocs.io/en/stable/user_install.html\n",
      "  from .autonotebook import tqdm as notebook_tqdm\n"
     ]
    }
   ],
   "source": [
    "import os \n",
    "import requests\n",
    "# from bs4 import BeautifulSoup\n",
    "from typing import List\n",
    "from dotenv import load_dotenv\n",
    "import gradio as gr "
   ]
  },
  {
   "cell_type": "code",
   "execution_count": 2,
   "id": "9db758a9",
   "metadata": {},
   "outputs": [
    {
     "name": "stdout",
     "output_type": "stream",
     "text": [
      "✅ OPEN_AI_API_KEY is valid.\n",
      "✅ ANTHROPIC_API_KEY is valid.\n",
      "⚠️ GOOGLE_GEMINI_API_KEY is present but may be malformed.\n",
      "Anthropic SDK loaded successfully\n"
     ]
    }
   ],
   "source": [
    "# Load environment variables from .env\n",
    "load_dotenv()\n",
    "\n",
    "# Define your API keys and expected prefixes\n",
    "api_keys = {\n",
    "    \"OPEN_AI_API_KEY\": \"sk-proj-\",\n",
    "    \"ANTHROPIC_API_KEY\": \"sk-ant-\",\n",
    "    \"GOOGLE_GEMINI_API_KEY\": \"gems-\"\n",
    "}\n",
    "\n",
    "def validate_key(name, prefix):\n",
    "    key = os.getenv(name)\n",
    "    if key and key.startswith(prefix):\n",
    "        print(f\"✅ {name} is valid.\")\n",
    "    elif key:\n",
    "        print(f\"⚠️ {name} is present but may be malformed.\")\n",
    "    else:\n",
    "        print(f\"❌ {name} is missing from environment.\")\n",
    "    return key\n",
    "\n",
    "# Validate and assign keys\n",
    "openai_key = validate_key(\"OPEN_AI_API_KEY\", api_keys[\"OPEN_AI_API_KEY\"])\n",
    "anthropic_key = validate_key(\"ANTHROPIC_API_KEY\", api_keys[\"ANTHROPIC_API_KEY\"])\n",
    "gemini_key = validate_key(\"GOOGLE_GEMINI_API_KEY\", api_keys[\"GOOGLE_GEMINI_API_KEY\"])\n",
    "\n",
    "# Assign keys to libraries or environment if needed\n",
    "if openai_key:\n",
    "    import openai\n",
    "    openai.api_key = openai_key\n",
    "\n",
    "if anthropic_key:\n",
    "    from anthropic import Anthropic\n",
    "    print(\"Anthropic SDK loaded successfully\")\n",
    "    # client = Anthropic.Client(api_key=anthropic_key)\n",
    "    client = Anthropic(api_key=anthropic_key)\n",
    "\n",
    "\n",
    "if gemini_key:\n",
    "    import google.generativeai as genai\n",
    "    genai.configure(api_key=gemini_key)\n",
    "\n",
    "    os.environ[\"GOOGLE_GEMINI_API_KEY\"] = gemini_key"
   ]
  },
  {
   "cell_type": "code",
   "execution_count": 3,
   "id": "42500367",
   "metadata": {},
   "outputs": [],
   "source": [
    "system_message = \"You are helpful assistant\""
   ]
  },
  {
   "cell_type": "code",
   "execution_count": 4,
   "id": "0982a114",
   "metadata": {},
   "outputs": [],
   "source": [
    "def message_gpt(prompt):\n",
    "    messages = [{\"role\":\"system\", \"content\":system_message},{\"role\":\"user\", \"content\":prompt}]\n",
    "    completion = openai.chat.completions.create(model=\"gpt-4o-mini\", messages=messages)\n",
    "    return completion.choices[0].message.content"
   ]
  },
  {
   "cell_type": "code",
   "execution_count": 5,
   "id": "93ff24c2",
   "metadata": {},
   "outputs": [
    {
     "data": {
      "text/plain": [
       "\"Today's date is October 5, 2023.\""
      ]
     },
     "execution_count": 5,
     "metadata": {},
     "output_type": "execute_result"
    }
   ],
   "source": [
    "message_gpt(\"what is today's date?\")"
   ]
  },
  {
   "cell_type": "code",
   "execution_count": 15,
   "id": "5a0ef406",
   "metadata": {},
   "outputs": [],
   "source": [
    "def shout(text):\n",
    "    print(f\"shout has been call with input {text}\")\n",
    "    return text.upper()"
   ]
  },
  {
   "cell_type": "code",
   "execution_count": 17,
   "id": "2bfa81ac",
   "metadata": {},
   "outputs": [
    {
     "name": "stdout",
     "output_type": "stream",
     "text": [
      "shout has been call with input Hello World!\n"
     ]
    },
    {
     "data": {
      "text/plain": [
       "'HELLO WORLD!'"
      ]
     },
     "execution_count": 17,
     "metadata": {},
     "output_type": "execute_result"
    }
   ],
   "source": [
    "shout(\"Hello World!\")"
   ]
  },
  {
   "cell_type": "code",
   "execution_count": 22,
   "id": "25e9ad13",
   "metadata": {},
   "outputs": [
    {
     "name": "stderr",
     "output_type": "stream",
     "text": [
      "c:\\Users\\mathe\\OneDrive\\Desktop\\LLM_Course\\Large_Language_Model_course_Material\\Week2\\.venv\\lib\\site-packages\\gradio\\interface.py:414: UserWarning: The `allow_flagging` parameter in `Interface` is deprecated. Use `flagging_mode` instead.\n",
      "  warnings.warn(\n"
     ]
    },
    {
     "name": "stdout",
     "output_type": "stream",
     "text": [
      "* Running on local URL:  http://127.0.0.1:7865\n",
      "* Running on public URL: https://55091e4968f1c8125b.gradio.live\n",
      "\n",
      "This share link expires in 1 week. For free permanent hosting and GPU upgrades, run `gradio deploy` from the terminal in the working directory to deploy to Hugging Face Spaces (https://huggingface.co/spaces)\n"
     ]
    },
    {
     "data": {
      "text/html": [
       "<div><iframe src=\"https://55091e4968f1c8125b.gradio.live\" width=\"100%\" height=\"500\" allow=\"autoplay; camera; microphone; clipboard-read; clipboard-write;\" frameborder=\"0\" allowfullscreen></iframe></div>"
      ],
      "text/plain": [
       "<IPython.core.display.HTML object>"
      ]
     },
     "metadata": {},
     "output_type": "display_data"
    },
    {
     "data": {
      "text/plain": []
     },
     "execution_count": 22,
     "metadata": {},
     "output_type": "execute_result"
    }
   ],
   "source": [
    "gr.Interface(fn=shout, inputs=\"textbox\",allow_flagging=\"never\", outputs=\"textbox\").launch(share=True)"
   ]
  },
  {
   "cell_type": "code",
   "execution_count": 28,
   "id": "cbc9707d",
   "metadata": {},
   "outputs": [
    {
     "name": "stderr",
     "output_type": "stream",
     "text": [
      "c:\\Users\\mathe\\OneDrive\\Desktop\\LLM_Course\\Large_Language_Model_course_Material\\Week2\\.venv\\lib\\site-packages\\gradio\\interface.py:414: UserWarning: The `allow_flagging` parameter in `Interface` is deprecated. Use `flagging_mode` instead.\n",
      "  warnings.warn(\n"
     ]
    },
    {
     "name": "stdout",
     "output_type": "stream",
     "text": [
      "* Running on local URL:  http://127.0.0.1:7866\n",
      "* To create a public link, set `share=True` in `launch()`.\n"
     ]
    },
    {
     "data": {
      "text/html": [
       "<div><iframe src=\"http://127.0.0.1:7866/\" width=\"100%\" height=\"500\" allow=\"autoplay; camera; microphone; clipboard-read; clipboard-write;\" frameborder=\"0\" allowfullscreen></iframe></div>"
      ],
      "text/plain": [
       "<IPython.core.display.HTML object>"
      ]
     },
     "metadata": {},
     "output_type": "display_data"
    },
    {
     "data": {
      "text/plain": []
     },
     "execution_count": 28,
     "metadata": {},
     "output_type": "execute_result"
    },
    {
     "name": "stdout",
     "output_type": "stream",
     "text": [
      "shout has been call with input hello yet again\n"
     ]
    }
   ],
   "source": [
    "view = gr.Interface(\n",
    "fn=shout,\n",
    "inputs=[gr.Textbox(label=\"Your message:\", lines=6)],\n",
    "outputs=[gr.Textbox(label=\"Response:\", lines=8)],\n",
    "allow_flagging=\"never\"\n",
    ")\n",
    "view.launch()"
   ]
  },
  {
   "cell_type": "code",
   "execution_count": 29,
   "id": "fee1d6df",
   "metadata": {},
   "outputs": [
    {
     "name": "stderr",
     "output_type": "stream",
     "text": [
      "c:\\Users\\mathe\\OneDrive\\Desktop\\LLM_Course\\Large_Language_Model_course_Material\\Week2\\.venv\\lib\\site-packages\\gradio\\interface.py:414: UserWarning: The `allow_flagging` parameter in `Interface` is deprecated. Use `flagging_mode` instead.\n",
      "  warnings.warn(\n"
     ]
    },
    {
     "name": "stdout",
     "output_type": "stream",
     "text": [
      "* Running on local URL:  http://127.0.0.1:7867\n",
      "* To create a public link, set `share=True` in `launch()`.\n"
     ]
    },
    {
     "data": {
      "text/html": [
       "<div><iframe src=\"http://127.0.0.1:7867/\" width=\"100%\" height=\"500\" allow=\"autoplay; camera; microphone; clipboard-read; clipboard-write;\" frameborder=\"0\" allowfullscreen></iframe></div>"
      ],
      "text/plain": [
       "<IPython.core.display.HTML object>"
      ]
     },
     "metadata": {},
     "output_type": "display_data"
    },
    {
     "data": {
      "text/plain": []
     },
     "execution_count": 29,
     "metadata": {},
     "output_type": "execute_result"
    }
   ],
   "source": [
    "view = gr.Interface(\n",
    "fn=shout,\n",
    "inputs=[gr.Textbox(label=\"Your message:\", lines=6)],\n",
    "outputs=[gr.Textbox(label=\"Response:\", lines=8)],\n",
    "allow_flagging=\"never\"\n",
    ")\n",
    "view.launch()"
   ]
  },
  {
   "cell_type": "code",
   "execution_count": 32,
   "id": "c29f09ca",
   "metadata": {},
   "outputs": [
    {
     "name": "stdout",
     "output_type": "stream",
     "text": [
      "* Running on local URL:  http://127.0.0.1:7868\n",
      "* To create a public link, set `share=True` in `launch()`.\n"
     ]
    },
    {
     "data": {
      "text/html": [
       "<div><iframe src=\"http://127.0.0.1:7868/\" width=\"100%\" height=\"500\" allow=\"autoplay; camera; microphone; clipboard-read; clipboard-write;\" frameborder=\"0\" allowfullscreen></iframe></div>"
      ],
      "text/plain": [
       "<IPython.core.display.HTML object>"
      ]
     },
     "metadata": {},
     "output_type": "display_data"
    },
    {
     "data": {
      "text/plain": []
     },
     "execution_count": 32,
     "metadata": {},
     "output_type": "execute_result"
    }
   ],
   "source": [
    "system_message = \"You are a helpful assistant that respond in markdown\"\n",
    "\n",
    "view = gr.Interface(\n",
    "    fn=message_gpt,\n",
    "    inputs=[gr.Textbox(label=\"Your Message:\", lines=6)],\n",
    "    outputs=[gr.Textbox(label=\"Your Response:\", lines=6)]\n",
    ")   \n",
    "view.launch()"
   ]
  },
  {
   "cell_type": "code",
   "execution_count": 34,
   "id": "73b1f695",
   "metadata": {},
   "outputs": [
    {
     "name": "stderr",
     "output_type": "stream",
     "text": [
      "c:\\Users\\mathe\\OneDrive\\Desktop\\LLM_Course\\Large_Language_Model_course_Material\\Week2\\.venv\\lib\\site-packages\\gradio\\interface.py:414: UserWarning: The `allow_flagging` parameter in `Interface` is deprecated. Use `flagging_mode` instead.\n",
      "  warnings.warn(\n"
     ]
    },
    {
     "name": "stdout",
     "output_type": "stream",
     "text": [
      "* Running on local URL:  http://127.0.0.1:7869\n",
      "* To create a public link, set `share=True` in `launch()`.\n"
     ]
    },
    {
     "data": {
      "text/html": [
       "<div><iframe src=\"http://127.0.0.1:7869/\" width=\"100%\" height=\"500\" allow=\"autoplay; camera; microphone; clipboard-read; clipboard-write;\" frameborder=\"0\" allowfullscreen></iframe></div>"
      ],
      "text/plain": [
       "<IPython.core.display.HTML object>"
      ]
     },
     "metadata": {},
     "output_type": "display_data"
    },
    {
     "data": {
      "text/plain": []
     },
     "execution_count": 34,
     "metadata": {},
     "output_type": "execute_result"
    }
   ],
   "source": [
    "system_message = \"You are a helpful assistant that respond in markdown\"\n",
    "\n",
    "view = gr.Interface(\n",
    "    fn=message_gpt,\n",
    "    inputs=[gr.Textbox(label=\"Your message:\")],\n",
    "    outputs=[gr.Markdown(label=\"Your Response:\")],\n",
    "    allow_flagging=\"never\"\n",
    ")\n",
    "view.launch()"
   ]
  },
  {
   "cell_type": "code",
   "execution_count": 35,
   "id": "45936913",
   "metadata": {},
   "outputs": [],
   "source": [
    "def stream_gpt(prompt):\n",
    "    messages = [\n",
    "        {\"role\":\"system\", \"content\":system_message},\n",
    "        {\"role\":\"user\", \"content\":prompt}\n",
    "    ]\n",
    "    stream = openai.chat.completions.create(\n",
    "        model=\"gpt-3.5-turbo\",\n",
    "        messages=messages,\n",
    "        stream=True\n",
    "    )\n",
    "    result = \"\"\n",
    "    for chunk in stream:\n",
    "        result += chunk.choices[0].delta.content or \"\"\n",
    "        yield result\n"
   ]
  },
  {
   "cell_type": "code",
   "execution_count": 37,
   "id": "3cfeecd9",
   "metadata": {},
   "outputs": [
    {
     "name": "stderr",
     "output_type": "stream",
     "text": [
      "c:\\Users\\mathe\\OneDrive\\Desktop\\LLM_Course\\Large_Language_Model_course_Material\\Week2\\.venv\\lib\\site-packages\\gradio\\interface.py:414: UserWarning: The `allow_flagging` parameter in `Interface` is deprecated. Use `flagging_mode` instead.\n",
      "  warnings.warn(\n"
     ]
    },
    {
     "name": "stdout",
     "output_type": "stream",
     "text": [
      "* Running on local URL:  http://127.0.0.1:7870\n",
      "* To create a public link, set `share=True` in `launch()`.\n"
     ]
    },
    {
     "data": {
      "text/html": [
       "<div><iframe src=\"http://127.0.0.1:7870/\" width=\"100%\" height=\"500\" allow=\"autoplay; camera; microphone; clipboard-read; clipboard-write;\" frameborder=\"0\" allowfullscreen></iframe></div>"
      ],
      "text/plain": [
       "<IPython.core.display.HTML object>"
      ]
     },
     "metadata": {},
     "output_type": "display_data"
    },
    {
     "data": {
      "text/plain": []
     },
     "execution_count": 37,
     "metadata": {},
     "output_type": "execute_result"
    }
   ],
   "source": [
    "view = gr.Interface(\n",
    "    fn=stream_gpt,\n",
    "    inputs=[gr.Textbox(label=\"Your message\")],\n",
    "    outputs=[gr.Markdown(label=\"Response\")],\n",
    "    allow_flagging=\"never\"\n",
    ")\n",
    "view.launch()"
   ]
  },
  {
   "cell_type": "code",
   "execution_count": null,
   "id": "05286d4f",
   "metadata": {},
   "outputs": [],
   "source": []
  }
 ],
 "metadata": {
  "kernelspec": {
   "display_name": "Python (Week2)",
   "language": "python",
   "name": "week2venv"
  },
  "language_info": {
   "codemirror_mode": {
    "name": "ipython",
    "version": 3
   },
   "file_extension": ".py",
   "mimetype": "text/x-python",
   "name": "python",
   "nbconvert_exporter": "python",
   "pygments_lexer": "ipython3",
   "version": "3.10.1"
  }
 },
 "nbformat": 4,
 "nbformat_minor": 5
}
